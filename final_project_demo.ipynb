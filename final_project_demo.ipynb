{
  "nbformat": 4,
  "nbformat_minor": 0,
  "metadata": {
    "colab": {
      "provenance": [],
      "gpuType": "T4",
      "authorship_tag": "ABX9TyO/w10lHcnt8J4T00E4iK59",
      "include_colab_link": true
    },
    "kernelspec": {
      "name": "python3",
      "display_name": "Python 3"
    },
    "language_info": {
      "name": "python"
    },
    "accelerator": "GPU",
    "gpuClass": "standard"
  },
  "cells": [
    {
      "cell_type": "markdown",
      "metadata": {
        "id": "view-in-github",
        "colab_type": "text"
      },
      "source": [
        "<a href=\"https://colab.research.google.com/github/hihi313/Practice-of-Edge-Intelligence-and-Computing/blob/master/final_project_demo.ipynb\" target=\"_parent\"><img src=\"https://colab.research.google.com/assets/colab-badge.svg\" alt=\"Open In Colab\"/></a>"
      ]
    },
    {
      "cell_type": "markdown",
      "source": [
        "# Download test dataset\n",
        "\n",
        "* Can be images in a folder\n",
        "* Choose any source/kind of image sequence you like\n",
        "* In this example we using TartanAir's abandonedfactory (sample) P001\n",
        "  * It's pre-compressed & uploaded to my OneDrive"
      ],
      "metadata": {
        "id": "VV-gWbEVQmD7"
      }
    },
    {
      "cell_type": "markdown",
      "source": [
        "Download TartanAir's dataset from the [GitHub repo](https://github.com/castacks/tartanair_tools).\n",
        "  * [Full list](https://github.com/castacks/tartanair_tools/blob/master/download_training_zipfiles.txt) of sequences\n",
        "  * Usually very large (>=1GB) & slow when download"
      ],
      "metadata": {
        "id": "Q0GWec-uRaKx"
      }
    },
    {
      "cell_type": "code",
      "source": [
        "dataset_file_name = \"dataset.zip\"\n",
        "dataset_dir = \"/content/dataset\""
      ],
      "metadata": {
        "id": "ceZOhH72AuV8"
      },
      "execution_count": null,
      "outputs": []
    },
    {
      "cell_type": "code",
      "source": [
        "%cd /content\n",
        "#!wget --show-progress -o {dataset_file_name} -c https://tartanair.blob.core.windows.net/tartanair-release1/seasonsforest/Hard/image_left.zip"
      ],
      "metadata": {
        "id": "MtenOvCB-5Bc"
      },
      "execution_count": null,
      "outputs": []
    },
    {
      "cell_type": "markdown",
      "source": [
        "Otherwise, download from my OneDrive (may be deleted any time)\n",
        "  * Use this because I pick the relative small sequence & compressed it (~=400MB), which is faster to download"
      ],
      "metadata": {
        "id": "2YCyOd_OR_qq"
      }
    },
    {
      "cell_type": "code",
      "source": [
        "!curl 'https://mailntustedutw-my.sharepoint.com/personal/m10902117_ms_ntust_edu_tw/_layouts/15/download.aspx?SourceUrl=%2Fpersonal%2Fm10902117%5Fms%5Fntust%5Fedu%5Ftw%2FDocuments%2Fsuperpoint%5Fsample%5Fdataset%2Ezip' \\\n",
        "-H 'User-Agent: Mozilla/5.0 (X11; Ubuntu; Linux x86_64; rv:109.0) Gecko/20100101 Firefox/113.0' \\\n",
        "-H 'Accept: text/html,application/xhtml+xml,application/xml;q=0.9,image/avif,image/webp,*/*;q=0.8' \\\n",
        "-H 'Accept-Language: en-US,en;q=0.5' \\\n",
        "-H 'Accept-Encoding: gzip, deflate, br' \\\n",
        "-H 'Referer: https://mailntustedutw-my.sharepoint.com/personal/m10902117_ms_ntust_edu_tw/_layouts/15/onedrive.aspx?id=%2Fpersonal%2Fm10902117%5Fms%5Fntust%5Fedu%5Ftw%2FDocuments%2Fsuperpoint%5Fsample%5Fdataset%2Ezip&parent=%2Fpersonal%2Fm10902117%5Fms%5Fntust%5Fedu%5Ftw%2FDocuments&ga=1' \\\n",
        "-H 'DNT: 1' \\\n",
        "-H 'Connection: keep-alive' \\\n",
        "-H 'Cookie: FedAuth=77u/PD94bWwgdmVyc2lvbj0iMS4wIiBlbmNvZGluZz0idXRmLTgiPz48U1A+VjEyLDBoLmZ8bWVtYmVyc2hpcHx1cm4lM2FzcG8lM2Fhbm9uIzRjMDk1ODQ2NmI0YmY4ODdjZjI2MjM5ZmUzMjIxZWQ3YmFmMWZjZjI2NTU1YWYyMDE1NzA4MzA1ZmEwNTJhMWIsMCMuZnxtZW1iZXJzaGlwfHVybiUzYXNwbyUzYWFub24jNGMwOTU4NDY2YjRiZjg4N2NmMjYyMzlmZTMyMjFlZDdiYWYxZmNmMjY1NTVhZjIwMTU3MDgzMDVmYTA1MmExYiwxMzMyOTgyOTEzNjAwMDAwMDAsMCwxMzMyOTkxNTIzNjQ1MjYxODAsMC4wLjAuMCwyNTgsNDk4ZWEwYmMtY2M5Yy00YTRiLWJiOTgtNjMxNWJkNDk1MDNkLCwsY2U5MmI3YTAtOTAzOS0yMDAwLTRlOTItZTg1MzVlMjhlZGU4LGNlOTJiN2EwLTkwMzktMjAwMC00ZTkyLWU4NTM1ZTI4ZWRlOCxpL3Q5VWdSdGJFQzlUY3pudmRCQU9BLDAsMCwwLCwsLDI2NTA0Njc3NDM5OTk5OTk5OTksMCwsLCwsLCwwLCxhQytmNzFaZ1FycGlIcnlBeWcyaE45clJCaklpYWtrK012WTdzZGVtRWEvbjRqYW5rMjAvVVF6azlSVlJVTk5LcTBIK0lETTZBeUVJWXdkVTlNbFlpbUhMdFdSaVBzNHREUTVacnl4SVJqTEU5SzBuRFdJVml1ZmdMbmhKNmROODI5ZWttK2VnNXdCR2xkVTlxUVArNm81NnJrNW5lNS9IaUhkclNlNHIvb2FPaWxBcjIvWVA1Y1M1dU11Z2dmbS94cUhra3A0clNSYnZROCt6NFc0WVU3ZnJaREwrZ09aWVc1NWJKQ2JtcEVnVCt2ZDA0Z3R5S3EzM0x2dVhMbVJlSDVtSEJOZUpHbVVXMVdLbDV4NW5YeU1vQlI5QXQzTDZBcmRwMFcyYU4wNUowZXhCQXY2SE5hcWdIc3JzSk5LcWJ0blRpa2ZzbGVFM3NLWHE0NklhRFE9PTwvU1A+' \\\n",
        "-o {dataset_file_name}"
      ],
      "metadata": {
        "id": "kBoyfKM7_G8Q"
      },
      "execution_count": null,
      "outputs": []
    },
    {
      "cell_type": "markdown",
      "source": [
        "# Extract Dataset\n",
        "\n",
        "* **Check the provided file name** in command!"
      ],
      "metadata": {
        "id": "5k1aYG7cS-Jf"
      }
    },
    {
      "cell_type": "code",
      "source": [
        "!7z x {dataset_file_name} -o{dataset_dir}"
      ],
      "metadata": {
        "id": "n0STFU4xPoXD"
      },
      "execution_count": null,
      "outputs": []
    },
    {
      "cell_type": "markdown",
      "source": [
        "move extracted file"
      ],
      "metadata": {
        "id": "9Ecutx4Ejvht"
      }
    },
    {
      "cell_type": "code",
      "source": [
        "# !mv superpoint_sample/ ../"
      ],
      "metadata": {
        "id": "QUuc3Pu3juoO"
      },
      "execution_count": null,
      "outputs": []
    },
    {
      "cell_type": "markdown",
      "source": [
        "# Clone repo"
      ],
      "metadata": {
        "id": "5O0mfIgfgMuu"
      }
    },
    {
      "cell_type": "code",
      "source": [
        "%cd /content\n",
        "!git clone --recurse-submodules https://github.com/hihi313/Practice-of-Edge-Intelligence-and-Computing.git"
      ],
      "metadata": {
        "id": "mBqSuFlygMey"
      },
      "execution_count": null,
      "outputs": []
    },
    {
      "cell_type": "code",
      "source": [
        "%cd Practice-of-Edge-Intelligence-and-Computing\n",
        "!pwd"
      ],
      "metadata": {
        "id": "H_LGpJTshmYA"
      },
      "execution_count": null,
      "outputs": []
    },
    {
      "cell_type": "markdown",
      "source": [
        "# Install dependencies"
      ],
      "metadata": {
        "id": "VsZxfw8biA8A"
      }
    },
    {
      "cell_type": "markdown",
      "source": [
        "(ubuntu) apt dependencies"
      ],
      "metadata": {
        "id": "bvgXuTbSiE_R"
      }
    },
    {
      "cell_type": "code",
      "source": [
        "!xargs apt install --yes --no-install-recommends < ./docker/apt_packages.txt"
      ],
      "metadata": {
        "id": "C11Fp14hhvTx"
      },
      "execution_count": null,
      "outputs": []
    },
    {
      "cell_type": "markdown",
      "source": [
        "pip dependencies"
      ],
      "metadata": {
        "id": "QbGour4XiJsY"
      }
    },
    {
      "cell_type": "code",
      "source": [
        "!python3 -m pip install --upgrade pip \\\n",
        "    && python3 -m pip install \\\n",
        "    --no-cache-dir \\\n",
        "    --extra-index-url https://download.pytorch.org/whl/cu113 \\\n",
        "    --requirement ./docker/requirements.txt"
      ],
      "metadata": {
        "id": "Zn-HzpHsiLd4"
      },
      "execution_count": null,
      "outputs": []
    },
    {
      "cell_type": "markdown",
      "source": [
        "# Inference"
      ],
      "metadata": {
        "id": "3vD7dcLToUIh"
      }
    },
    {
      "cell_type": "markdown",
      "source": [
        "Options can copy:\n",
        "```\n",
        "  --cuda\n",
        "  --cv_kp\n",
        "  --show_extra\n",
        "  --weights_path \"./models/superPointNet_80000_checkpoint.pth.tar\"\n",
        "  --onnx_path \"./models/superpoint.onnx\"\n",
        "  --ir_path \"./models/superpoint_openvino/superpoint.xml\"\n",
        "```\n"
      ],
      "metadata": {
        "id": "_L7du-JSqk7Y"
      }
    },
    {
      "cell_type": "code",
      "source": [
        "%run superpoint_testing.py \\\n",
        "  {dataset_dir} \\\n",
        "  --H 240 \\\n",
        "  --W 320 \\\n",
        "  --colab \\\n",
        "  --show_extra \\\n",
        "  --ir_path \"./models/superpoint_openvino/superpoint.xml\""
      ],
      "metadata": {
        "id": "D3vvBJ1fjUOe"
      },
      "execution_count": null,
      "outputs": []
    },
    {
      "cell_type": "code",
      "source": [
        "# !rm -rf /content/Practice-of-Edge-Intelligence-and-Computing/"
      ],
      "metadata": {
        "id": "N5LhKcD9n0W7"
      },
      "execution_count": null,
      "outputs": []
    }
  ]
}