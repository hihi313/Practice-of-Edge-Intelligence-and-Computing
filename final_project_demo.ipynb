{
  "nbformat": 4,
  "nbformat_minor": 0,
  "metadata": {
    "colab": {
      "provenance": [],
      "gpuType": "T4"
    },
    "kernelspec": {
      "name": "python3",
      "display_name": "Python 3"
    },
    "language_info": {
      "name": "python"
    },
    "accelerator": "GPU",
    "gpuClass": "standard"
  },
  "cells": [
    {
      "cell_type": "markdown",
      "source": [
        "# **Make sure dataset dir is correct after extract the dataset**"
      ],
      "metadata": {
        "id": "HSNdbd_yquEo"
      }
    },
    {
      "cell_type": "code",
      "source": [
        "home = \"/content\"\n",
        "dataset_file_name = \"dataset.zip\"\n",
        "dataset_root = f\"{home}/dataset\"\n",
        "dataset_dir = f\"{dataset_root}/mav0/cam0/data\"\n",
        "commit_hash = \"5d28ad5c9312ca5b2f40fa30c6f0d8188fea1cc9\""
      ],
      "metadata": {
        "id": "ceZOhH72AuV8"
      },
      "execution_count": null,
      "outputs": []
    },
    {
      "cell_type": "markdown",
      "source": [
        "# Download test dataset\n",
        "\n",
        "* Can be images in a folder\n",
        "* Choose any source/kind of image sequence you like\n",
        "* In this example we using TartanAir's abandonedfactory (sample) P001\n",
        "  * It's pre-compressed & uploaded to my OneDrive"
      ],
      "metadata": {
        "id": "VV-gWbEVQmD7"
      }
    },
    {
      "cell_type": "markdown",
      "source": [
        "1. Download TartanAir's dataset from the [GitHub repo](https://github.com/castacks/tartanair_tools).\n",
        "  * [Full list](https://github.com/castacks/tartanair_tools/blob/master/download_training_zipfiles.txt) of sequences\n",
        "  * Usually very large (>=1GB) & slow when download\n",
        "2. Otherwise, download EuROC dataset (which is smaller)"
      ],
      "metadata": {
        "id": "Q0GWec-uRaKx"
      }
    },
    {
      "cell_type": "code",
      "source": [
        "%cd {home}\n",
        "#!wget --show-progress -o {dataset_file_name} -c https://tartanair.blob.core.windows.net/tartanair-release1/seasonsforest/Hard/image_left.zip\n",
        "!curl 'http://robotics.ethz.ch/~asl-datasets/ijrr_euroc_mav_dataset/vicon_room1/V1_02_medium/V1_02_medium.zip' \\\n",
        "  -o {dataset_file_name}"
      ],
      "metadata": {
        "id": "MtenOvCB-5Bc"
      },
      "execution_count": null,
      "outputs": []
    },
    {
      "cell_type": "code",
      "source": [
        "!ls -al"
      ],
      "metadata": {
        "id": "yBbW7b08qgP3"
      },
      "execution_count": null,
      "outputs": []
    },
    {
      "cell_type": "markdown",
      "source": [
        "# Extract Dataset\n",
        "\n",
        "* **Check the provided file name** in command!"
      ],
      "metadata": {
        "id": "5k1aYG7cS-Jf"
      }
    },
    {
      "cell_type": "code",
      "source": [
        "!rm -rf {dataset_root}"
      ],
      "metadata": {
        "id": "rvHrTn8EtlAO"
      },
      "execution_count": null,
      "outputs": []
    },
    {
      "cell_type": "code",
      "source": [
        "!7z x {home}/{dataset_file_name} -o{dataset_root}"
      ],
      "metadata": {
        "id": "n0STFU4xPoXD"
      },
      "execution_count": null,
      "outputs": []
    },
    {
      "cell_type": "markdown",
      "source": [
        "move extracted file"
      ],
      "metadata": {
        "id": "9Ecutx4Ejvht"
      }
    },
    {
      "cell_type": "code",
      "source": [
        "# !mv superpoint_sample/ ../"
      ],
      "metadata": {
        "id": "QUuc3Pu3juoO"
      },
      "execution_count": null,
      "outputs": []
    },
    {
      "cell_type": "markdown",
      "source": [
        "# Clone repo"
      ],
      "metadata": {
        "id": "5O0mfIgfgMuu"
      }
    },
    {
      "cell_type": "code",
      "source": [
        "%cd {home}\n",
        "!git clone --recurse-submodules https://github.com/hihi313/Practice-of-Edge-Intelligence-and-Computing.git"
      ],
      "metadata": {
        "id": "mBqSuFlygMey"
      },
      "execution_count": null,
      "outputs": []
    },
    {
      "cell_type": "code",
      "source": [
        "%cd Practice-of-Edge-Intelligence-and-Computing\n",
        "!git checkout {commit_hash}\n",
        "!mkdir -p ./output\n",
        "!ls"
      ],
      "metadata": {
        "id": "H_LGpJTshmYA"
      },
      "execution_count": null,
      "outputs": []
    },
    {
      "cell_type": "markdown",
      "source": [
        "# Install dependencies"
      ],
      "metadata": {
        "id": "VsZxfw8biA8A"
      }
    },
    {
      "cell_type": "markdown",
      "source": [
        "(ubuntu) apt dependencies"
      ],
      "metadata": {
        "id": "bvgXuTbSiE_R"
      }
    },
    {
      "cell_type": "code",
      "source": [
        "!xargs apt install --yes --no-install-recommends < ./docker/apt_packages.txt"
      ],
      "metadata": {
        "id": "C11Fp14hhvTx"
      },
      "execution_count": null,
      "outputs": []
    },
    {
      "cell_type": "markdown",
      "source": [
        "pip dependencies"
      ],
      "metadata": {
        "id": "QbGour4XiJsY"
      }
    },
    {
      "cell_type": "code",
      "source": [
        "!python3 -m pip install --upgrade pip \\\n",
        "    && python3 -m pip install \\\n",
        "    --no-cache-dir \\\n",
        "    --extra-index-url https://download.pytorch.org/whl/cu113 \\\n",
        "    --requirement ./docker/requirements.txt"
      ],
      "metadata": {
        "id": "Zn-HzpHsiLd4"
      },
      "execution_count": null,
      "outputs": []
    },
    {
      "cell_type": "markdown",
      "source": [
        "# Inference"
      ],
      "metadata": {
        "id": "3vD7dcLToUIh"
      }
    },
    {
      "cell_type": "markdown",
      "source": [
        "Options can copy: **make sure the path of the model is correct**\n",
        "```\n",
        "  --cuda\n",
        "  --cv_kp\n",
        "  --show_extra\n",
        "  --weights_path \"./models/superPointNet_80000_checkpoint.pth.tar\"\n",
        "  --onnx_path \"./models/superpoint.onnx\"\n",
        "  --ir_path \"./models/superpoint_openvino/superpoint.xml\"\n",
        "```\n"
      ],
      "metadata": {
        "id": "_L7du-JSqk7Y"
      }
    },
    {
      "cell_type": "code",
      "source": [
        "%cd Practice-of-Edge-Intelligence-and-Computing\n",
        "%run superpoint_testing.py \\\n",
        "  {dataset_dir} \\\n",
        "  --H 240 \\\n",
        "  --W 320 \\\n",
        "  --colab \\\n",
        "  --show_extra \\\n",
        "  --ir_path \"./models/superpoint_35k_finetune/superpoint_35k_finetune.xml\""
      ],
      "metadata": {
        "id": "D3vvBJ1fjUOe"
      },
      "execution_count": null,
      "outputs": []
    },
    {
      "cell_type": "code",
      "source": [
        "# !rm -rf /content/Practice-of-Edge-Intelligence-and-Computing/"
      ],
      "metadata": {
        "id": "N5LhKcD9n0W7"
      },
      "execution_count": null,
      "outputs": []
    }
  ]
}